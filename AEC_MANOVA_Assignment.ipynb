{
 "cells": [
  {
   "cell_type": "markdown",
   "id": "90cc31e3",
   "metadata": {},
   "source": [
    "# RA Objectives\n",
    "\n",
    "- Put the data into a simple MANOVA.\n",
    "- Expect similar results but potentially slightly lower error.\n",
    "- No need for post-hoc tests since there are only two levels per variable.\n",
    "- Run correlations for MLS, CN/C, and Error to Word.\n",
    "- If MLS and CN/C correlate highly, use CN/C and Error to Word as measures for selecting case studies.\n",
    "- If you reduce it to two indices, convert them to z-scores.\n",
    "\n",
    "# AEC Declaration of AI use\n",
    "- All notes are AI Generated.\n",
    "- I used AI to understand my data correctly but surely it should be double checked."
   ]
  },
  {
   "cell_type": "markdown",
   "id": "33fe9646",
   "metadata": {},
   "source": [
    "# Loading Data"
   ]
  },
  {
   "cell_type": "code",
   "execution_count": 25,
   "id": "aeb4757c",
   "metadata": {},
   "outputs": [],
   "source": [
    "import pandas as pd\n",
    "from statsmodels.multivariate.manova import MANOVA"
   ]
  },
  {
   "cell_type": "code",
   "execution_count": 24,
   "id": "2c6bcc6d",
   "metadata": {
    "scrolled": true
   },
   "outputs": [],
   "source": [
    "file_path = r'C:\\Users\\egeme\\Desktop\\Diss Stuff\\Adams Stats Assignment/collaborative.csv'  # Update with the correct path to your file\n",
    "data = pd.read_csv(file_path)"
   ]
  },
  {
   "cell_type": "markdown",
   "id": "58d43060",
   "metadata": {},
   "source": [
    "# Running MANOVA"
   ]
  },
  {
   "cell_type": "code",
   "execution_count": 12,
   "id": "1b17327d",
   "metadata": {
    "scrolled": true
   },
   "outputs": [
    {
     "name": "stdout",
     "output_type": "stream",
     "text": [
      "                  Multivariate linear model\n",
      "==============================================================\n",
      "                                                              \n",
      "--------------------------------------------------------------\n",
      "       Intercept        Value  Num DF  Den DF  F Value  Pr > F\n",
      "--------------------------------------------------------------\n",
      "          Wilks' lambda 0.1134 9.0000 150.0000 130.2436 0.0000\n",
      "         Pillai's trace 0.8866 9.0000 150.0000 130.2436 0.0000\n",
      " Hotelling-Lawley trace 7.8146 9.0000 150.0000 130.2436 0.0000\n",
      "    Roy's greatest root 7.8146 9.0000 150.0000 130.2436 0.0000\n",
      "--------------------------------------------------------------\n",
      "                                                              \n",
      "--------------------------------------------------------------\n",
      "          Group          Value  Num DF  Den DF  F Value Pr > F\n",
      "--------------------------------------------------------------\n",
      "           Wilks' lambda 0.8895 9.0000 150.0000  2.0704 0.0356\n",
      "          Pillai's trace 0.1105 9.0000 150.0000  2.0704 0.0356\n",
      "  Hotelling-Lawley trace 0.1242 9.0000 150.0000  2.0704 0.0356\n",
      "     Roy's greatest root 0.1242 9.0000 150.0000  2.0704 0.0356\n",
      "==============================================================\n",
      "\n"
     ]
    },
    {
     "name": "stderr",
     "output_type": "stream",
     "text": [
      "c:\\users\\egeme\\appdata\\local\\programs\\python\\python39\\lib\\site-packages\\statsmodels\\iolib\\summary2.py:579: FutureWarning: DataFrame.applymap has been deprecated. Use DataFrame.map instead.\n",
      "  dat = dat.applymap(lambda x: _formatter(x, float_format))\n"
     ]
    }
   ],
   "source": [
    "# Selecting all variables\n",
    "manova_data = data[['Group', 'MLS', 'MLC', 'CP_C', 'CN_C', 'NFE_C', 'DC_C', 'CNP_C_Ell', 'CNP_C_Eg', 'ErrorToWordRatio']].dropna()\n",
    "\n",
    "# To Group Variables\n",
    "manova_data['Group'] = manova_data['Group'].map({'G1': 1, 'G2': 2})\n",
    "\n",
    "# Including all variables\n",
    "manova = MANOVA.from_formula('MLS + MLC + CP_C + CN_C + NFE_C + DC_C + CNP_C_Ell + CNP_C_Eg + ErrorToWordRatio ~ Group', data=manova_data)\n",
    "\n",
    "# Run the MANOVA\n",
    "manova_results = manova.mv_test()\n",
    "\n",
    "# Print the Results\n",
    "print(manova_results)\n"
   ]
  },
  {
   "cell_type": "markdown",
   "id": "7ac0bf53",
   "metadata": {},
   "source": [
    "#### AI Generated Writing:\n",
    "- MANOVA results indicate a significant effect of **Group (G1 vs G2)** on combined dependent variables (**MLS**, **CN/C**, **ErrorToWordRatio**).\n",
    "- **Wilks' Lambda = 0.8895**, **F(9, 150) = 2.07**, **p = 0.036**.\n",
    "- Statistically significant differences between the two groups when considering all variables together.\n",
    "- Other multivariate tests (e.g., **Pillai's Trace**, **Hotelling-Lawley Trace**, **Roy's Greatest Root**) confirm the findings with consistent F-values and p-values.\n"
   ]
  },
  {
   "cell_type": "markdown",
   "id": "1404c0d7",
   "metadata": {},
   "source": [
    "# Visualize"
   ]
  },
  {
   "cell_type": "code",
   "execution_count": 13,
   "id": "6b552dd8",
   "metadata": {},
   "outputs": [
    {
     "name": "stderr",
     "output_type": "stream",
     "text": [
      "C:\\Users\\egeme\\AppData\\Local\\Temp\\ipykernel_7248\\3687784440.py:9: MatplotlibDeprecationWarning: The 'labels' parameter of boxplot() has been renamed 'tick_labels' since Matplotlib 3.9; support for the old name will be dropped in 3.11.\n",
      "  plt.boxplot([manova_data[manova_data['Group'] == 1][variable],\n",
      "C:\\Users\\egeme\\AppData\\Local\\Temp\\ipykernel_7248\\3687784440.py:9: MatplotlibDeprecationWarning: The 'labels' parameter of boxplot() has been renamed 'tick_labels' since Matplotlib 3.9; support for the old name will be dropped in 3.11.\n",
      "  plt.boxplot([manova_data[manova_data['Group'] == 1][variable],\n",
      "C:\\Users\\egeme\\AppData\\Local\\Temp\\ipykernel_7248\\3687784440.py:9: MatplotlibDeprecationWarning: The 'labels' parameter of boxplot() has been renamed 'tick_labels' since Matplotlib 3.9; support for the old name will be dropped in 3.11.\n",
      "  plt.boxplot([manova_data[manova_data['Group'] == 1][variable],\n",
      "C:\\Users\\egeme\\AppData\\Local\\Temp\\ipykernel_7248\\3687784440.py:9: MatplotlibDeprecationWarning: The 'labels' parameter of boxplot() has been renamed 'tick_labels' since Matplotlib 3.9; support for the old name will be dropped in 3.11.\n",
      "  plt.boxplot([manova_data[manova_data['Group'] == 1][variable],\n",
      "C:\\Users\\egeme\\AppData\\Local\\Temp\\ipykernel_7248\\3687784440.py:9: MatplotlibDeprecationWarning: The 'labels' parameter of boxplot() has been renamed 'tick_labels' since Matplotlib 3.9; support for the old name will be dropped in 3.11.\n",
      "  plt.boxplot([manova_data[manova_data['Group'] == 1][variable],\n",
      "C:\\Users\\egeme\\AppData\\Local\\Temp\\ipykernel_7248\\3687784440.py:9: MatplotlibDeprecationWarning: The 'labels' parameter of boxplot() has been renamed 'tick_labels' since Matplotlib 3.9; support for the old name will be dropped in 3.11.\n",
      "  plt.boxplot([manova_data[manova_data['Group'] == 1][variable],\n",
      "C:\\Users\\egeme\\AppData\\Local\\Temp\\ipykernel_7248\\3687784440.py:9: MatplotlibDeprecationWarning: The 'labels' parameter of boxplot() has been renamed 'tick_labels' since Matplotlib 3.9; support for the old name will be dropped in 3.11.\n",
      "  plt.boxplot([manova_data[manova_data['Group'] == 1][variable],\n",
      "C:\\Users\\egeme\\AppData\\Local\\Temp\\ipykernel_7248\\3687784440.py:9: MatplotlibDeprecationWarning: The 'labels' parameter of boxplot() has been renamed 'tick_labels' since Matplotlib 3.9; support for the old name will be dropped in 3.11.\n",
      "  plt.boxplot([manova_data[manova_data['Group'] == 1][variable],\n",
      "C:\\Users\\egeme\\AppData\\Local\\Temp\\ipykernel_7248\\3687784440.py:9: MatplotlibDeprecationWarning: The 'labels' parameter of boxplot() has been renamed 'tick_labels' since Matplotlib 3.9; support for the old name will be dropped in 3.11.\n",
      "  plt.boxplot([manova_data[manova_data['Group'] == 1][variable],\n"
     ]
    },
    {
     "data": {
      "image/png": "[encoded data removed]",
      "text/plain": [
       "<Figure size 1080x720 with 9 Axes>"
      ]
     },
     "metadata": {
      "needs_background": "light"
     },
     "output_type": "display_data"
    }
   ],
   "source": [
    "import matplotlib.pyplot as plt\n",
    "\n",
    "# Boxplots\n",
    "variables = ['MLS', 'MLC', 'CP_C', 'CN_C', 'NFE_C', 'DC_C', 'CNP_C_Ell', 'CNP_C_Eg', 'ErrorToWordRatio']\n",
    "\n",
    "plt.figure(figsize=(15, 10))\n",
    "for i, variable in enumerate(variables, 1):\n",
    "    plt.subplot(3, 3, i)\n",
    "    plt.boxplot([manova_data[manova_data['Group'] == 1][variable],\n",
    "                 manova_data[manova_data['Group'] == 2][variable]],\n",
    "                labels=['G1', 'G2'])\n",
    "    plt.title(variable)\n",
    "\n",
    "plt.tight_layout()\n",
    "plt.show()\n"
   ]
  },
  {
   "cell_type": "code",
   "execution_count": 14,
   "id": "3aa300a9",
   "metadata": {},
   "outputs": [
    {
     "data": {
      "text/html": [
       "<div>\n",
       "<style scoped>\n",
       "    .dataframe tbody tr th:only-of-type {\n",
       "        vertical-align: middle;\n",
       "    }\n",
       "\n",
       "    .dataframe tbody tr th {\n",
       "        vertical-align: top;\n",
       "    }\n",
       "\n",
       "    .dataframe thead th {\n",
       "        text-align: right;\n",
       "    }\n",
       "</style>\n",
       "<table border=\"1\" class=\"dataframe\">\n",
       "  <thead>\n",
       "    <tr style=\"text-align: right;\">\n",
       "      <th></th>\n",
       "      <th>Test</th>\n",
       "      <th>Intercept Value</th>\n",
       "      <th>Intercept Num DF</th>\n",
       "      <th>Intercept Den DF</th>\n",
       "      <th>Intercept F Value</th>\n",
       "      <th>Intercept Pr &gt; F</th>\n",
       "      <th>Group Value</th>\n",
       "      <th>Group Num DF</th>\n",
       "      <th>Group Den DF</th>\n",
       "      <th>Group F Value</th>\n",
       "      <th>Group Pr &gt; F</th>\n",
       "    </tr>\n",
       "  </thead>\n",
       "  <tbody>\n",
       "    <tr>\n",
       "      <th>0</th>\n",
       "      <td>Wilks' lambda</td>\n",
       "      <td>0.1134</td>\n",
       "      <td>9</td>\n",
       "      <td>150</td>\n",
       "      <td>130.2436</td>\n",
       "      <td>0.0</td>\n",
       "      <td>0.8895</td>\n",
       "      <td>9</td>\n",
       "      <td>150</td>\n",
       "      <td>2.0704</td>\n",
       "      <td>0.0356</td>\n",
       "    </tr>\n",
       "    <tr>\n",
       "      <th>1</th>\n",
       "      <td>Pillai's trace</td>\n",
       "      <td>0.8866</td>\n",
       "      <td>9</td>\n",
       "      <td>150</td>\n",
       "      <td>130.2436</td>\n",
       "      <td>0.0</td>\n",
       "      <td>0.1105</td>\n",
       "      <td>9</td>\n",
       "      <td>150</td>\n",
       "      <td>2.0704</td>\n",
       "      <td>0.0356</td>\n",
       "    </tr>\n",
       "    <tr>\n",
       "      <th>2</th>\n",
       "      <td>Hotelling-Lawley trace</td>\n",
       "      <td>7.8146</td>\n",
       "      <td>9</td>\n",
       "      <td>150</td>\n",
       "      <td>130.2436</td>\n",
       "      <td>0.0</td>\n",
       "      <td>0.1242</td>\n",
       "      <td>9</td>\n",
       "      <td>150</td>\n",
       "      <td>2.0704</td>\n",
       "      <td>0.0356</td>\n",
       "    </tr>\n",
       "    <tr>\n",
       "      <th>3</th>\n",
       "      <td>Roy's greatest root</td>\n",
       "      <td>7.8146</td>\n",
       "      <td>9</td>\n",
       "      <td>150</td>\n",
       "      <td>130.2436</td>\n",
       "      <td>0.0</td>\n",
       "      <td>0.1242</td>\n",
       "      <td>9</td>\n",
       "      <td>150</td>\n",
       "      <td>2.0704</td>\n",
       "      <td>0.0356</td>\n",
       "    </tr>\n",
       "  </tbody>\n",
       "</table>\n",
       "</div>"
      ],
      "text/plain": [
       "                     Test  Intercept Value  Intercept Num DF  \\\n",
       "0           Wilks' lambda           0.1134                 9   \n",
       "1          Pillai's trace           0.8866                 9   \n",
       "2  Hotelling-Lawley trace           7.8146                 9   \n",
       "3     Roy's greatest root           7.8146                 9   \n",
       "\n",
       "   Intercept Den DF  Intercept F Value  Intercept Pr > F  Group Value  \\\n",
       "0               150           130.2436               0.0       0.8895   \n",
       "1               150           130.2436               0.0       0.1105   \n",
       "2               150           130.2436               0.0       0.1242   \n",
       "3               150           130.2436               0.0       0.1242   \n",
       "\n",
       "   Group Num DF  Group Den DF  Group F Value  Group Pr > F  \n",
       "0             9           150         2.0704        0.0356  \n",
       "1             9           150         2.0704        0.0356  \n",
       "2             9           150         2.0704        0.0356  \n",
       "3             9           150         2.0704        0.0356  "
      ]
     },
     "execution_count": 14,
     "metadata": {},
     "output_type": "execute_result"
    }
   ],
   "source": [
    "# MANOVA Table\n",
    "manova_results_table = {\n",
    "    'Test': ['Wilks\\' lambda', 'Pillai\\'s trace', 'Hotelling-Lawley trace', 'Roy\\'s greatest root'],\n",
    "    'Intercept Value': [0.1134, 0.8866, 7.8146, 7.8146],\n",
    "    'Intercept Num DF': [9, 9, 9, 9],\n",
    "    'Intercept Den DF': [150, 150, 150, 150],\n",
    "    'Intercept F Value': [130.2436, 130.2436, 130.2436, 130.2436],\n",
    "    'Intercept Pr > F': [0.0000, 0.0000, 0.0000, 0.0000],\n",
    "    'Group Value': [0.8895, 0.1105, 0.1242, 0.1242],\n",
    "    'Group Num DF': [9, 9, 9, 9],\n",
    "    'Group Den DF': [150, 150, 150, 150],\n",
    "    'Group F Value': [2.0704, 2.0704, 2.0704, 2.0704],\n",
    "    'Group Pr > F': [0.0356, 0.0356, 0.0356, 0.0356]\n",
    "}\n",
    "\n",
    "# To DF\n",
    "full_manova_df = pd.DataFrame(manova_results_table)\n",
    "\n",
    "# Results\n",
    "full_manova_df\n"
   ]
  },
  {
   "cell_type": "markdown",
   "id": "840f2750",
   "metadata": {},
   "source": [
    "# Cohen's D"
   ]
  },
  {
   "cell_type": "code",
   "execution_count": 20,
   "id": "f796b10f",
   "metadata": {
    "scrolled": true
   },
   "outputs": [
    {
     "data": {
      "text/html": [
       "<div>\n",
       "<style scoped>\n",
       "    .dataframe tbody tr th:only-of-type {\n",
       "        vertical-align: middle;\n",
       "    }\n",
       "\n",
       "    .dataframe tbody tr th {\n",
       "        vertical-align: top;\n",
       "    }\n",
       "\n",
       "    .dataframe thead th {\n",
       "        text-align: right;\n",
       "    }\n",
       "</style>\n",
       "<table border=\"1\" class=\"dataframe\">\n",
       "  <thead>\n",
       "    <tr style=\"text-align: right;\">\n",
       "      <th></th>\n",
       "      <th>Cohen's d</th>\n",
       "    </tr>\n",
       "  </thead>\n",
       "  <tbody>\n",
       "    <tr>\n",
       "      <th>MLS</th>\n",
       "      <td>0.313996</td>\n",
       "    </tr>\n",
       "    <tr>\n",
       "      <th>MLC</th>\n",
       "      <td>0.022587</td>\n",
       "    </tr>\n",
       "    <tr>\n",
       "      <th>CP_C</th>\n",
       "      <td>0.036493</td>\n",
       "    </tr>\n",
       "    <tr>\n",
       "      <th>CN_C</th>\n",
       "      <td>-0.014169</td>\n",
       "    </tr>\n",
       "    <tr>\n",
       "      <th>NFE_C</th>\n",
       "      <td>0.250009</td>\n",
       "    </tr>\n",
       "    <tr>\n",
       "      <th>DC_C</th>\n",
       "      <td>0.330141</td>\n",
       "    </tr>\n",
       "    <tr>\n",
       "      <th>CNP_C_Ell</th>\n",
       "      <td>-0.014179</td>\n",
       "    </tr>\n",
       "    <tr>\n",
       "      <th>CNP_C_Eg</th>\n",
       "      <td>-0.262606</td>\n",
       "    </tr>\n",
       "    <tr>\n",
       "      <th>ErrorToWordRatio</th>\n",
       "      <td>-0.412395</td>\n",
       "    </tr>\n",
       "  </tbody>\n",
       "</table>\n",
       "</div>"
      ],
      "text/plain": [
       "                  Cohen's d\n",
       "MLS                0.313996\n",
       "MLC                0.022587\n",
       "CP_C               0.036493\n",
       "CN_C              -0.014169\n",
       "NFE_C              0.250009\n",
       "DC_C               0.330141\n",
       "CNP_C_Ell         -0.014179\n",
       "CNP_C_Eg          -0.262606\n",
       "ErrorToWordRatio  -0.412395"
      ]
     },
     "execution_count": 20,
     "metadata": {},
     "output_type": "execute_result"
    }
   ],
   "source": [
    "# Function to calculate Cohen's d\n",
    "def cohens_d(group1, group2):\n",
    "    mean1, mean2 = group1.mean(), group2.mean()\n",
    "    std1, std2 = group1.std(), group2.std()\n",
    "    pooled_std = ((std1**2 + std2**2) / 2) ** 0.5\n",
    "    return (mean1 - mean2) / pooled_std\n",
    "\n",
    "# List of variables for which to calculate effect size\n",
    "variables = ['MLS', 'MLC', 'CP_C', 'CN_C', 'NFE_C', 'DC_C', 'CNP_C_Ell', 'CNP_C_Eg', 'ErrorToWordRatio']\n",
    "\n",
    "# Calculate Cohen's d for each variable\n",
    "effect_sizes = {}\n",
    "for variable in variables:\n",
    "    group_1_values = manova_data[manova_data['Group'] == 1][variable]\n",
    "    group_2_values = manova_data[manova_data['Group'] == 2][variable]\n",
    "    effect_sizes[variable] = cohens_d(group_1_values, group_2_values)\n",
    "\n",
    "# Convert effect sizes to a DataFrame for display\n",
    "effect_sizes_df = pd.DataFrame(effect_sizes, index=[\"Cohen's d\"]).T\n",
    "\n",
    "# Display the effect sizes\n",
    "effect_sizes_df\n"
   ]
  },
  {
   "cell_type": "markdown",
   "id": "33d56dbd",
   "metadata": {},
   "source": [
    "#### AI Generated Writing:\n",
    "\n",
    "- **Mean Length of Sentence (MLS)**:\n",
    "  - Cohen's d = **0.31**\n",
    "  - Group 1 tends to produce longer sentences, suggesting a more complex sentence structure.\n",
    "  \n",
    "- **Dependent Clauses per Clause (DC_C)**:\n",
    "  - Cohen's d = **0.33**\n",
    "  - Group 1 uses more dependent clauses, adding to sentence complexity.\n",
    "  \n",
    "- **Error to Word Ratio**:\n",
    "  - Cohen's d = **-0.41**\n",
    "  - Group 2 struggles more with grammatical or stylistic errors.\n",
    "  \n",
    "- **Overall, these medium effect sizes highlight:**\n",
    "  - Differences in writing accuracy and syntactic complexity between Group 1 and Group 2.\n"
   ]
  },
  {
   "cell_type": "markdown",
   "id": "c8d3c8bc",
   "metadata": {},
   "source": [
    "# Z-SCORES"
   ]
  },
  {
   "cell_type": "code",
   "execution_count": 21,
   "id": "93a9a653",
   "metadata": {
    "scrolled": true
   },
   "outputs": [
    {
     "data": {
      "text/html": [
       "<div>\n",
       "<style scoped>\n",
       "    .dataframe tbody tr th:only-of-type {\n",
       "        vertical-align: middle;\n",
       "    }\n",
       "\n",
       "    .dataframe tbody tr th {\n",
       "        vertical-align: top;\n",
       "    }\n",
       "\n",
       "    .dataframe thead th {\n",
       "        text-align: right;\n",
       "    }\n",
       "</style>\n",
       "<table border=\"1\" class=\"dataframe\">\n",
       "  <thead>\n",
       "    <tr style=\"text-align: right;\">\n",
       "      <th></th>\n",
       "      <th>Group</th>\n",
       "      <th>CN_C</th>\n",
       "      <th>ErrorToWordRatio</th>\n",
       "      <th>CN_C_z</th>\n",
       "      <th>ErrorToWordRatio_z</th>\n",
       "    </tr>\n",
       "  </thead>\n",
       "  <tbody>\n",
       "    <tr>\n",
       "      <th>0</th>\n",
       "      <td>1</td>\n",
       "      <td>0.9032</td>\n",
       "      <td>0.028061</td>\n",
       "      <td>-0.791474</td>\n",
       "      <td>1.975886</td>\n",
       "    </tr>\n",
       "    <tr>\n",
       "      <th>1</th>\n",
       "      <td>1</td>\n",
       "      <td>1.1053</td>\n",
       "      <td>0.015385</td>\n",
       "      <td>-0.349857</td>\n",
       "      <td>0.621398</td>\n",
       "    </tr>\n",
       "    <tr>\n",
       "      <th>2</th>\n",
       "      <td>1</td>\n",
       "      <td>1.1163</td>\n",
       "      <td>0.027919</td>\n",
       "      <td>-0.325821</td>\n",
       "      <td>1.960666</td>\n",
       "    </tr>\n",
       "    <tr>\n",
       "      <th>3</th>\n",
       "      <td>1</td>\n",
       "      <td>1.0571</td>\n",
       "      <td>0.015464</td>\n",
       "      <td>-0.455181</td>\n",
       "      <td>0.629872</td>\n",
       "    </tr>\n",
       "    <tr>\n",
       "      <th>4</th>\n",
       "      <td>1</td>\n",
       "      <td>1.1316</td>\n",
       "      <td>0.027919</td>\n",
       "      <td>-0.292388</td>\n",
       "      <td>1.960666</td>\n",
       "    </tr>\n",
       "  </tbody>\n",
       "</table>\n",
       "</div>"
      ],
      "text/plain": [
       "   Group    CN_C  ErrorToWordRatio    CN_C_z  ErrorToWordRatio_z\n",
       "0      1  0.9032          0.028061 -0.791474            1.975886\n",
       "1      1  1.1053          0.015385 -0.349857            0.621398\n",
       "2      1  1.1163          0.027919 -0.325821            1.960666\n",
       "3      1  1.0571          0.015464 -0.455181            0.629872\n",
       "4      1  1.1316          0.027919 -0.292388            1.960666"
      ]
     },
     "execution_count": 21,
     "metadata": {},
     "output_type": "execute_result"
    }
   ],
   "source": [
    "from scipy.stats import zscore\n",
    "\n",
    "# Select the variables for which we want to calculate z-scores\n",
    "variables_to_standardize = ['CN_C', 'ErrorToWordRatio']\n",
    "\n",
    "# Calculate z-scores for the relevant variables\n",
    "manova_data[['CN_C_z', 'ErrorToWordRatio_z']] = manova_data[variables_to_standardize].apply(zscore)\n",
    "\n",
    "# Display the first few rows with z-scores\n",
    "manova_data[['Group', 'CN_C', 'ErrorToWordRatio', 'CN_C_z', 'ErrorToWordRatio_z']].head()\n"
   ]
  },
  {
   "cell_type": "markdown",
   "id": "9d7908a6",
   "metadata": {},
   "source": [
    "### AI Generated Writing\n",
    "\n",
    "- **CN_C**:\n",
    "  - Shows variation, but all **z-scores** are negative.\n",
    "  - This indicates that Group 1 uses fewer complex noun phrases compared to the overall mean of the dataset.\n",
    "\n",
    "- **Error to Word Ratio**:\n",
    "  - Shows variation, with **z-scores** consistently high.\n",
    "  - The first and third entries are significantly above average, suggesting Group 1 is producing more errors than expected.\n",
    "\n",
    "- These trends could highlight potential patterns or areas of improvement for Group 1, particularly in terms of syntactic complexity and writing accuracy.\n"
   ]
  },
  {
   "cell_type": "code",
   "execution_count": 30,
   "id": "499ece9d",
   "metadata": {},
   "outputs": [
    {
     "data": {
      "image/png": "[encoded data removed]",
      "text/plain": [
       "<Figure size 576x432 with 2 Axes>"
      ]
     },
     "metadata": {
      "needs_background": "light"
     },
     "output_type": "display_data"
    }
   ],
   "source": [
    "# Plot the four-quadrant scatter plot with z-scores\n",
    "plt.figure(figsize=(8, 6))\n",
    "plt.scatter(manova_data['CN_C_z'], manova_data['ErrorToWordRatio_z'], c=manova_data['Group'], cmap='coolwarm', label=manova_data['Group'])\n",
    "\n",
    "# Add labels and title\n",
    "plt.axhline(0, color='black',linewidth=1)  # horizontal line at y=0\n",
    "plt.axvline(0, color='black',linewidth=1)  # vertical line at x=0\n",
    "plt.xlabel('CN/C (Z-Scores)')\n",
    "plt.ylabel('Error to Word Ratio (Z-Scores)')\n",
    "plt.title('Four-Quadrant Plot of CN/C vs Error to Word Ratio')\n",
    "plt.colorbar(label='Group')\n",
    "\n",
    "plt.show()\n"
   ]
  },
  {
   "cell_type": "markdown",
   "id": "e38d16fc",
   "metadata": {},
   "source": [
    "### AI Generated Writing\n",
    "\n",
    "- In the **Top-Right Quadrant**, we’ve got students who are going all in on complex noun phrases (**+CN/C**) but racking up a bunch of errors along the way (**+Error**). It’s like they’re pushing for complexity but not quite landing it cleanly. \n",
    "\n",
    "- Then, over in the **Bottom-Right Quadrant**, we’ve got the ideal scenario—these students have **+CN/C** and **-Error**, meaning they’re handling complexity without introducing a lot of mistakes. Definitely a group worth looking at for strong writing strategies. \n",
    "\n",
    "- The **Top-Left Quadrant**, though, shows those who are playing it simple (**-CN/C**) but still running into trouble with errors (**+Error**), so they’re not really benefiting from the simpler structures. \n",
    "\n",
    "- Finally, the **Bottom-Left Quadrant** has those who are keeping things simple (**-CN/C**) and low on errors (**-Error**), which is safe but not necessarily advancing complexity. Overall, the clustering’s solid, especially in the ideal and struggling quadrants, giving us a good roadmap for selecting case studies."
   ]
  },
  {
   "cell_type": "markdown",
   "id": "4ff32348",
   "metadata": {},
   "source": [
    "# Correlations"
   ]
  },
  {
   "cell_type": "code",
   "execution_count": 23,
   "id": "c0629238",
   "metadata": {},
   "outputs": [
    {
     "data": {
      "text/html": [
       "<div>\n",
       "<style scoped>\n",
       "    .dataframe tbody tr th:only-of-type {\n",
       "        vertical-align: middle;\n",
       "    }\n",
       "\n",
       "    .dataframe tbody tr th {\n",
       "        vertical-align: top;\n",
       "    }\n",
       "\n",
       "    .dataframe thead th {\n",
       "        text-align: right;\n",
       "    }\n",
       "</style>\n",
       "<table border=\"1\" class=\"dataframe\">\n",
       "  <thead>\n",
       "    <tr style=\"text-align: right;\">\n",
       "      <th></th>\n",
       "      <th>MLS</th>\n",
       "      <th>CN_C</th>\n",
       "      <th>ErrorToWordRatio</th>\n",
       "    </tr>\n",
       "  </thead>\n",
       "  <tbody>\n",
       "    <tr>\n",
       "      <th>MLS</th>\n",
       "      <td>1.000000</td>\n",
       "      <td>0.494097</td>\n",
       "      <td>-0.237539</td>\n",
       "    </tr>\n",
       "    <tr>\n",
       "      <th>CN_C</th>\n",
       "      <td>0.494097</td>\n",
       "      <td>1.000000</td>\n",
       "      <td>-0.242786</td>\n",
       "    </tr>\n",
       "    <tr>\n",
       "      <th>ErrorToWordRatio</th>\n",
       "      <td>-0.237539</td>\n",
       "      <td>-0.242786</td>\n",
       "      <td>1.000000</td>\n",
       "    </tr>\n",
       "  </tbody>\n",
       "</table>\n",
       "</div>"
      ],
      "text/plain": [
       "                       MLS      CN_C  ErrorToWordRatio\n",
       "MLS               1.000000  0.494097         -0.237539\n",
       "CN_C              0.494097  1.000000         -0.242786\n",
       "ErrorToWordRatio -0.237539 -0.242786          1.000000"
      ]
     },
     "execution_count": 23,
     "metadata": {},
     "output_type": "execute_result"
    }
   ],
   "source": [
    "# Calculate Pearson correlation matrix for MLS, CN/C, and ErrorToWordRatio\n",
    "correlation_matrix = manova_data[['MLS', 'CN_C', 'ErrorToWordRatio']].corr()\n",
    "\n",
    "# Display the correlation matrix\n",
    "correlation_matrix\n"
   ]
  },
  {
   "cell_type": "markdown",
   "id": "9984864e",
   "metadata": {},
   "source": [
    "### AI Generated Writing\n",
    "\n",
    "The correlation analysis revealed a moderate positive correlation between **MLS** (Mean Length of Sentence) and **CN/C** (Complex Noun per Clause) with a coefficient of **r = 0.494**, suggesting that as sentences get longer, they tend to include more complex noun phrases. The correlation between **MLS** and **ErrorToWordRatio** was weakly negative (**r = -0.238**), indicating that longer sentences are associated with a slight reduction in errors per word. Similarly, **CN/C** and **ErrorToWordRatio** showed a weak negative correlation (**r = -0.243**)."
   ]
  },
  {
   "cell_type": "markdown",
   "id": "3f0c2fee",
   "metadata": {},
   "source": [
    "# If MLS and CN/C correlate highly, use CN/C and Error to Word as measures for selecting case studies.\n",
    "\n",
    "### AI Generated Writing\n",
    "\n",
    "The correlation between **MLS** and **CN/C** is solid enough at **r = 0.494**, which gives confidence in moving forward with **CN/C** and **Error to Word Ratio** for selecting case studies. Sure, it’s not a perfect correlation, but it’s definitely meaningful, especially when combined with the medium effect sizes that are found for both variables. These two measures together will give us a pretty clear picture of how sentence complexity and accuracy vary between the groups."
   ]
  },
  {
   "cell_type": "code",
   "execution_count": null,
   "id": "12914db3",
   "metadata": {},
   "outputs": [],
   "source": []
  },
  {
   "cell_type": "code",
   "execution_count": null,
   "id": "7403117b",
   "metadata": {},
   "outputs": [],
   "source": []
  }
 ],
 "metadata": {
  "kernelspec": {
   "display_name": "Python 3 (ipykernel)",
   "language": "python",
   "name": "python3"
  },
  "language_info": {
   "codemirror_mode": {
    "name": "ipython",
    "version": 3
   },
   "file_extension": ".py",
   "mimetype": "text/x-python",
   "name": "python",
   "nbconvert_exporter": "python",
   "pygments_lexer": "ipython3",
   "version": "3.9.6"
  }
 },
 "nbformat": 4,
 "nbformat_minor": 5
}
